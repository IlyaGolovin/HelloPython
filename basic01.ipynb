{
  "nbformat": 4,
  "nbformat_minor": 0,
  "metadata": {
    "colab": {
      "name": "basic01.ipynb",
      "provenance": [],
      "collapsed_sections": [],
      "authorship_tag": "ABX9TyPYIRcbqdB4aQuNxHeg2YgX",
      "include_colab_link": true
    },
    "kernelspec": {
      "name": "python3",
      "display_name": "Python 3"
    }
  },
  "cells": [
    {
      "cell_type": "markdown",
      "metadata": {
        "id": "view-in-github",
        "colab_type": "text"
      },
      "source": [
        "<a href=\"https://colab.research.google.com/github/IlyaGolovin/HelloPython/blob/master/basic01.ipynb\" target=\"_parent\"><img src=\"https://colab.research.google.com/assets/colab-badge.svg\" alt=\"Open In Colab\"/></a>"
      ]
    },
    {
      "cell_type": "markdown",
      "metadata": {
        "id": "M7Eooc3bN3py"
      },
      "source": [
        ""
      ]
    },
    {
      "cell_type": "markdown",
      "metadata": {
        "id": "pveDJHI1OSnY"
      },
      "source": [
        "Create 10 last names variables "
      ]
    },
    {
      "cell_type": "code",
      "metadata": {
        "id": "JGWzHSX-N7-h"
      },
      "source": [
        "last_name = \"Golovin\"\r\n",
        "lastName = \"May\"\r\n",
        "LastName = \"Roberto\"\r\n",
        "LASTNAME =\"Heroes\"\r\n"
      ],
      "execution_count": 2,
      "outputs": []
    },
    {
      "cell_type": "code",
      "metadata": {
        "colab": {
          "base_uri": "https://localhost:8080/"
        },
        "id": "3jOCj3YTN7BU",
        "outputId": "272ebcf3-fda2-4aff-a94f-c8eecfbb03eb"
      },
      "source": [
        "print(last_name)\r\n",
        "print(lastName)\r\n",
        "print(LASTNAME)\r\n",
        "print(LastName)"
      ],
      "execution_count": 4,
      "outputs": [
        {
          "output_type": "stream",
          "text": [
            "Golovin\n",
            "May\n",
            "Heroes\n",
            "Roberto\n"
          ],
          "name": "stdout"
        }
      ]
    },
    {
      "cell_type": "markdown",
      "metadata": {
        "id": "79mW6asiZtj4"
      },
      "source": [
        "Create 10 list"
      ]
    },
    {
      "cell_type": "code",
      "metadata": {
        "id": "sJ7tpaU2bOyC"
      },
      "source": [
        "import math"
      ],
      "execution_count": 8,
      "outputs": []
    },
    {
      "cell_type": "code",
      "metadata": {
        "colab": {
          "base_uri": "https://localhost:8080/"
        },
        "id": "cWamcapwO1jL",
        "outputId": "a5f5abfa-0d16-45b0-b107-93897d753051"
      },
      "source": [
        "list1 =[\"Hello\",\"nice\", \"person\"]\r\n",
        "list2 = [ \"Mango\", \"Bread\", \"Milk\"]\r\n",
        "list3 =[ \"Lexus\",\"Toyota\", \"BMW\"]\r\n",
        "\r\n",
        "num1 = 12\r\n",
        "num2= 13\r\n",
        "num3 = 14\r\n",
        "\r\n",
        "num1 = 1.2\r\n",
        "num2= 1.3\r\n",
        "num3 = 1.4\r\n",
        "\r\n",
        "type(list1)\r\n",
        "\r\n",
        "print(list3)"
      ],
      "execution_count": 7,
      "outputs": [
        {
          "output_type": "stream",
          "text": [
            "[' Lexus', 'Toyota', 'BMW']\n"
          ],
          "name": "stdout"
        }
      ]
    },
    {
      "cell_type": "code",
      "metadata": {
        "colab": {
          "base_uri": "https://localhost:8080/"
        },
        "id": "hYCnbOw1aj-I",
        "outputId": "16c0bed1-e972-4545-f04b-e90986043e72"
      },
      "source": [
        "math.pi"
      ],
      "execution_count": 9,
      "outputs": [
        {
          "output_type": "execute_result",
          "data": {
            "text/plain": [
              "3.141592653589793"
            ]
          },
          "metadata": {
            "tags": []
          },
          "execution_count": 9
        }
      ]
    },
    {
      "cell_type": "code",
      "metadata": {
        "colab": {
          "base_uri": "https://localhost:8080/"
        },
        "id": "tF52joEkbVYm",
        "outputId": "fe9da174-ebe2-4b40-908b-a37a5872c564"
      },
      "source": [
        "Sunny_day = True \r\n",
        "type(Sunny_day)"
      ],
      "execution_count": 11,
      "outputs": [
        {
          "output_type": "execute_result",
          "data": {
            "text/plain": [
              "bool"
            ]
          },
          "metadata": {
            "tags": []
          },
          "execution_count": 11
        }
      ]
    },
    {
      "cell_type": "code",
      "metadata": {
        "id": "LfibUkh-bhN2"
      },
      "source": [
        ""
      ],
      "execution_count": null,
      "outputs": []
    },
    {
      "cell_type": "markdown",
      "metadata": {
        "id": "6zbeL52ji_PF"
      },
      "source": [
        "Dictionary"
      ]
    },
    {
      "cell_type": "code",
      "metadata": {
        "colab": {
          "base_uri": "https://localhost:8080/"
        },
        "id": "dgTxG_YXjBYt",
        "outputId": "c0e78d13-892d-4072-84c0-d53abeb20ea6"
      },
      "source": [
        "myDict = {'key':'milk', \r\n",
        "          'key1':'carrots',\r\n",
        "          'key2':'eggs',\r\n",
        "          'key3': 'orange',\r\n",
        "          'key4': 'cucamber'}\r\n",
        "\r\n",
        "myDictNames = {'key':'John',\r\n",
        "               'key1':'Sara',\r\n",
        "               'key3':'Nio',\r\n",
        "               'key4':'Peter',\r\n",
        "               'key5': 'Natasha',\r\n",
        "               'key6': 'Luka'\r\n",
        "                }     \r\n",
        "myDictSportsPlayes = {\r\n",
        "    'key': 'tennis',\r\n",
        "    'key1': 'football',\r\n",
        "    'key2': 'box',\r\n",
        "    'key3': 'swimming'\r\n",
        "}\r\n",
        "print(myDict)\r\n",
        "print(myDictNames)\r\n",
        "print(myDictSportsPlayes)"
      ],
      "execution_count": 18,
      "outputs": [
        {
          "output_type": "stream",
          "text": [
            "{'key': 'milk', 'key1': 'carrots', 'key2': 'eggs', 'key3': 'orange', 'key4': 'cucamber'}\n",
            "{'key': 'John', 'key1': 'Sara', 'key3': 'Nio', 'key4': 'Peter', 'key5': 'Natasha', 'key6': 'Luka'}\n",
            "{'key': 'tennis', 'key1': 'football', 'key2': 'box', 'key3': 'swimming'}\n"
          ],
          "name": "stdout"
        }
      ]
    },
    {
      "cell_type": "code",
      "metadata": {
        "id": "sQkA6sDjmw4J"
      },
      "source": [
        ""
      ],
      "execution_count": null,
      "outputs": []
    }
  ]
}