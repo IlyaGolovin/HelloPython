{
  "nbformat": 4,
  "nbformat_minor": 0,
  "metadata": {
    "colab": {
      "name": "ForLoop.ipynb",
      "provenance": [],
      "collapsed_sections": [],
      "authorship_tag": "ABX9TyOUPlN5IqY4iFtIN4OKgSc4",
      "include_colab_link": true
    },
    "kernelspec": {
      "name": "python3",
      "display_name": "Python 3"
    }
  },
  "cells": [
    {
      "cell_type": "markdown",
      "metadata": {
        "id": "view-in-github",
        "colab_type": "text"
      },
      "source": [
        "<a href=\"https://colab.research.google.com/github/IlyaGolovin/HelloPython/blob/master/ForLoop.ipynb\" target=\"_parent\"><img src=\"https://colab.research.google.com/assets/colab-badge.svg\" alt=\"Open In Colab\"/></a>"
      ]
    },
    {
      "cell_type": "code",
      "metadata": {
        "id": "iKuk-lT-pOAo"
      },
      "source": [
        "toppings = ['van','stre','ber']\r\n",
        "newtop = input(\"Type a new top please\")\r\n",
        "for topping in toppings:\r\n",
        "   if topping == newtop:\r\n",
        "    print(\"Already here\")\r\n",
        "   else:\r\n",
        "     toppings.append(newtop) \r\n",
        "   print(\"I will add new top\")"
      ],
      "execution_count": null,
      "outputs": []
    },
    {
      "cell_type": "code",
      "metadata": {
        "colab": {
          "base_uri": "https://localhost:8080/"
        },
        "id": "886G7o2kqRx_",
        "outputId": "84be7444-17b9-4e89-b84e-e395e9ee876b"
      },
      "source": [
        "print(toppings)"
      ],
      "execution_count": null,
      "outputs": [
        {
          "output_type": "stream",
          "text": [
            "['van', 'stre', 'ber', 'poul', 'poul', 'poul']\n"
          ],
          "name": "stdout"
        }
      ]
    },
    {
      "cell_type": "code",
      "metadata": {
        "id": "4g8C37dtr9zU"
      },
      "source": [
        "for x in 'cuny':\r\n",
        "    print(x)"
      ],
      "execution_count": null,
      "outputs": []
    },
    {
      "cell_type": "code",
      "metadata": {
        "colab": {
          "base_uri": "https://localhost:8080/",
          "height": 129
        },
        "id": "4MqIJV0XWld_",
        "outputId": "6e1091c0-1004-4b53-ba43-213264181489"
      },
      "source": [
        "familyMembers = [\"John\", 'Peter',\"Nata\",\"Go\",\"Rebeka\",\"Lese\",\"Mike\",\"Henry\",\"Bob\",\r\n",
        "                  \"Lana\",\"Dan\",\"Tom\",\"Kate\",\"Moere\",\"Baku\",\"xen\",\"Kale\"]\r\n",
        "for member in familyMembers:\r\n",
        "    print(\"Hi, \" + member)\r\n",
        "     \r\n"
      ],
      "execution_count": 47,
      "outputs": [
        {
          "output_type": "error",
          "ename": "IndentationError",
          "evalue": "ignored",
          "traceback": [
            "\u001b[0;36m  File \u001b[0;32m\"<ipython-input-47-731bb1c00d7a>\"\u001b[0;36m, line \u001b[0;32m5\u001b[0m\n\u001b[0;31m    print(familyMembers[0:10])\u001b[0m\n\u001b[0m    ^\u001b[0m\n\u001b[0;31mIndentationError\u001b[0m\u001b[0;31m:\u001b[0m unexpected indent\n"
          ]
        }
      ]
    },
    {
      "cell_type": "code",
      "metadata": {
        "colab": {
          "base_uri": "https://localhost:8080/"
        },
        "id": "Sgg3RfHjYXFa",
        "outputId": "9cd053b0-c13b-4f01-ba78-afca4bf08223"
      },
      "source": [
        "number = int(input(\"Enter a number please\"))\r\n",
        "if (number==0):\r\n",
        "  print(number, \" is even \")\r\n",
        "else:\r\n",
        "    print(number, \" is odd\")"
      ],
      "execution_count": 16,
      "outputs": [
        {
          "output_type": "stream",
          "text": [
            "Enter a number please4\n",
            "4  is odd\n"
          ],
          "name": "stdout"
        }
      ]
    },
    {
      "cell_type": "code",
      "metadata": {
        "id": "PW7vwwIMncOS"
      },
      "source": [
        "number=11\r\n",
        "Match=True\r\n",
        "\r\n",
        "for num in range (2,number+1):\r\n",
        "    number%num\r\n",
        "    if number%num==0:\r\n",
        "        Match=False\r\n",
        "        \r\n",
        "if Match:\r\n",
        "    print( f'{num} is prime.')\r\n",
        "\r\n",
        "else:\r\n",
        "    print(f'{num} is not prime.')\r\n"
      ],
      "execution_count": null,
      "outputs": []
    },
    {
      "cell_type": "code",
      "metadata": {
        "id": "7Dwqal1brDrv"
      },
      "source": [
        ""
      ],
      "execution_count": null,
      "outputs": []
    },
    {
      "cell_type": "code",
      "metadata": {
        "id": "w8Mw5NwWw_O-"
      },
      "source": [
        "familyMembers1 = [\"John\", 'Peter',\"Nata\",\"Go\",\"Rebeka\",\"Lese\",\"Mike\",\"Henry\",\"Bob\",\r\n",
        "                  \"Lana\",\"Dan\",\"Tom\",\"Kate\",\"Moere\",\"Baku\",\"xen\",\"Kale\"]\r\n",
        "print(familyMembers1[0:10])\r\n",
        "print(familyMembers1[3:13])\r\n",
        "print(familyMembers1[:-9])\r\n",
        "print(familyMembers1[0:10])\r\n",
        "print(familyMembers1[0:10])\r\n",
        "print(familyMembers1[0:10])\r\n",
        "print(familyMembers1[0:10])\r\n",
        "print(familyMembers1[0:10])\r\n",
        "print(familyMembers1[0:10])\r\n",
        "\r\n",
        "\r\n"
      ],
      "execution_count": null,
      "outputs": []
    },
    {
      "cell_type": "code",
      "metadata": {
        "id": "VEdbP6drxDcn"
      },
      "source": [
        ""
      ],
      "execution_count": null,
      "outputs": []
    }
  ]
}